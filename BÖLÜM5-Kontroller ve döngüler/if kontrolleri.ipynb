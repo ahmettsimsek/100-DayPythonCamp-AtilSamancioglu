{
 "cells": [
  {
   "attachments": {},
   "cell_type": "markdown",
   "metadata": {},
   "source": [
    "# İF KONTROLLERİ\n",
    "\n",
    "\n",
    "\n"
   ]
  },
  {
   "cell_type": "code",
   "execution_count": 1,
   "metadata": {},
   "outputs": [
    {
     "name": "stdout",
     "output_type": "stream",
     "text": [
      "3, 1 den büyüktür\n"
     ]
    }
   ],
   "source": [
    "if 3 > 1:            # koşul doğru ise yazdırır\n",
    "    print(\"3, 1 den büyüktür\")\n"
   ]
  },
  {
   "cell_type": "code",
   "execution_count": 1,
   "metadata": {},
   "outputs": [
    {
     "name": "stdout",
     "output_type": "stream",
     "text": [
      "batman\n"
     ]
    }
   ],
   "source": [
    "hero = input(\"bir kahraman giriniz:\")\n",
    "\n",
    "if hero == \"batman\":\n",
    "    print(\"batman\")\n",
    "elif hero == \"superman\":\n",
    "    print(\"supermen\")\n",
    "elif hero == \"aquaman\":\n",
    "    print(\"aquaman\")\n",
    "else:\n",
    "    print(\" :( \") \n"
   ]
  },
  {
   "cell_type": "code",
   "execution_count": 6,
   "metadata": {},
   "outputs": [
    {
     "name": "stdout",
     "output_type": "stream",
     "text": [
      "yaş 18-30 arası\n"
     ]
    }
   ],
   "source": [
    "age = 18\n",
    "if age <18:\n",
    "    print(\"giriş yok\")\n",
    "elif age >= 18 and age < 30:\n",
    "    print(\"yaş 18-30 arası\")\n",
    "else:\n",
    "    print(\"yaşlısınız\")      "
   ]
  }
 ],
 "metadata": {
  "kernelspec": {
   "display_name": "Python 3",
   "language": "python",
   "name": "python3"
  },
  "language_info": {
   "codemirror_mode": {
    "name": "ipython",
    "version": 3
   },
   "file_extension": ".py",
   "mimetype": "text/x-python",
   "name": "python",
   "nbconvert_exporter": "python",
   "pygments_lexer": "ipython3",
   "version": "3.11.2"
  },
  "orig_nbformat": 4
 },
 "nbformat": 4,
 "nbformat_minor": 2
}

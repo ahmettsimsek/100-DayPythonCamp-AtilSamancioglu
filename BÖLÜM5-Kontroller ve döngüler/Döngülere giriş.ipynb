{
 "cells": [
  {
   "attachments": {},
   "cell_type": "markdown",
   "metadata": {},
   "source": [
    "# Döngülere giriş"
   ]
  },
  {
   "attachments": {},
   "cell_type": "markdown",
   "metadata": {},
   "source": [
    "# FOR DÖNGÜLERİ"
   ]
  },
  {
   "cell_type": "code",
   "execution_count": 2,
   "metadata": {},
   "outputs": [
    {
     "name": "stdout",
     "output_type": "stream",
     "text": [
      "10\n",
      "20\n",
      "30\n",
      "40\n"
     ]
    }
   ],
   "source": [
    "\n",
    "myList = [10,20,30,40]\n",
    "\n",
    "\n",
    "# for number/item in myList:\n",
    "#      print(number veya item)\n",
    "\n",
    "for x in myList: # her bir liste elemanını x değişkenine atadık ve print(x) ile her bir elemanı bastırdık for döngüsü ile\n",
    "    print(x)"
   ]
  },
  {
   "cell_type": "code",
   "execution_count": 11,
   "metadata": {},
   "outputs": [
    {
     "name": "stdout",
     "output_type": "stream",
     "text": [
      "30\n",
      "60\n"
     ]
    }
   ],
   "source": [
    "myList = [10,20,30,40,50,60,70]\n",
    "\n",
    "for x in myList:  #6'a kalansız bölen bulur\n",
    "    if x % 6 == 0:  \n",
    "    \n"
   ]
  },
  {
   "cell_type": "code",
   "execution_count": 12,
   "metadata": {},
   "outputs": [
    {
     "name": "stdout",
     "output_type": "stream",
     "text": [
      "('a', 'b')\n",
      "('c', 'd')\n",
      "('e', 'f')\n"
     ]
    }
   ],
   "source": [
    "newList = [(\"a\",\"b\"),(\"c\",\"d\"),(\"e\",\"f\")]\n",
    "\n",
    "for x in newList:\n",
    "    print(x)"
   ]
  },
  {
   "cell_type": "code",
   "execution_count": 13,
   "metadata": {},
   "outputs": [
    {
     "name": "stdout",
     "output_type": "stream",
     "text": [
      "b\n"
     ]
    }
   ],
   "source": [
    "newList = [(\"a\",\"b\"),(\"c\",\"d\"),(\"e\",\"f\")]\n",
    "\n",
    "for x in newList[0][1]:\n",
    "    print(x)"
   ]
  },
  {
   "cell_type": "code",
   "execution_count": 20,
   "metadata": {},
   "outputs": [
    {
     "name": "stdout",
     "output_type": "stream",
     "text": [
      "a\n",
      "c\n",
      "e\n"
     ]
    }
   ],
   "source": [
    "newList = [(\"a\",\"b\"),(\"c\",\"d\"),(\"e\",\"f\")]\n",
    "\n",
    "for (x,y) in newList:\n",
    "    print(x)"
   ]
  },
  {
   "cell_type": "code",
   "execution_count": 21,
   "metadata": {},
   "outputs": [
    {
     "name": "stdout",
     "output_type": "stream",
     "text": [
      "k1\n",
      "k2\n",
      "k3\n"
     ]
    }
   ],
   "source": [
    "my_dictionary = {\"k1\":100,\"k2\":200,\"k3\":300}\n",
    "for element in my_dictionary:\n",
    "    print(element)"
   ]
  },
  {
   "cell_type": "code",
   "execution_count": 22,
   "metadata": {},
   "outputs": [
    {
     "name": "stdout",
     "output_type": "stream",
     "text": [
      "100\n",
      "200\n",
      "300\n"
     ]
    }
   ],
   "source": [
    "for (key,value) in my_dictionary.items():\n",
    "    print(value)"
   ]
  },
  {
   "attachments": {},
   "cell_type": "markdown",
   "metadata": {},
   "source": [
    "-----------"
   ]
  },
  {
   "attachments": {},
   "cell_type": "markdown",
   "metadata": {},
   "source": [
    "----------"
   ]
  },
  {
   "attachments": {},
   "cell_type": "markdown",
   "metadata": {},
   "source": [
    "# CONTİNUE---- BREAK ------ PASS"
   ]
  },
  {
   "attachments": {},
   "cell_type": "markdown",
   "metadata": {},
   "source": [
    "BREAK--------------> kodu bitirmek için"
   ]
  },
  {
   "cell_type": "code",
   "execution_count": 25,
   "metadata": {},
   "outputs": [
    {
     "name": "stdout",
     "output_type": "stream",
     "text": [
      "10\n",
      "20\n",
      "30\n",
      "40\n",
      "bulundu,40 var\n"
     ]
    }
   ],
   "source": [
    "liste = [10,20,30,40,50,60,70]\n",
    "\n",
    "for x in liste:\n",
    "    print(x)\n",
    "    if x == 40:\n",
    "        print(\"bulundu,40 var\")\n",
    "        break\n",
    "    "
   ]
  },
  {
   "attachments": {},
   "cell_type": "markdown",
   "metadata": {},
   "source": [
    "----"
   ]
  },
  {
   "attachments": {},
   "cell_type": "markdown",
   "metadata": {},
   "source": [
    "continue-------------> atlama için"
   ]
  },
  {
   "cell_type": "code",
   "execution_count": 27,
   "metadata": {},
   "outputs": [
    {
     "name": "stdout",
     "output_type": "stream",
     "text": [
      "10\n",
      "20\n",
      "30\n",
      "bulundu,40 atla\n",
      "50\n",
      "60\n",
      "70\n"
     ]
    }
   ],
   "source": [
    "iste = [10,20,30,40,50,60,70]\n",
    "\n",
    "for x in liste:\n",
    "    \n",
    "    if x == 40:\n",
    "        print(\"bulundu,40 atla\")\n",
    "        continue\n",
    "    print(x)"
   ]
  },
  {
   "attachments": {},
   "cell_type": "markdown",
   "metadata": {},
   "source": [
    "----"
   ]
  },
  {
   "attachments": {},
   "cell_type": "markdown",
   "metadata": {},
   "source": [
    "pass"
   ]
  },
  {
   "cell_type": "code",
   "execution_count": 29,
   "metadata": {},
   "outputs": [],
   "source": [
    "for num in liste:\n",
    "    pass # bitmemiş kodda hata almamak için kullanılır"
   ]
  }
 ],
 "metadata": {
  "kernelspec": {
   "display_name": "Python 3",
   "language": "python",
   "name": "python3"
  },
  "language_info": {
   "codemirror_mode": {
    "name": "ipython",
    "version": 3
   },
   "file_extension": ".py",
   "mimetype": "text/x-python",
   "name": "python",
   "nbconvert_exporter": "python",
   "pygments_lexer": "ipython3",
   "version": "3.11.2"
  },
  "orig_nbformat": 4
 },
 "nbformat": 4,
 "nbformat_minor": 2
}
